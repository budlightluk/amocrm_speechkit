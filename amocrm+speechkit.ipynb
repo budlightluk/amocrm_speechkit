{
 "cells": [
  {
   "cell_type": "markdown",
   "id": "1b16c6d2-e9f1-441a-9e8a-fcef3df07dda",
   "metadata": {},
   "source": [
    "Зарегистрируйтесь в Yandex.Cloud.  \n",
    "Создайте новый проект в Yandex.Cloud.  \n",
    "В разделе \"API и сервисы\" подключите сервис \"Yandex SpeechKit\".  \n",
    "Создайте API-ключ для использования Yandex SpeechKit.  "
   ]
  },
  {
   "cell_type": "code",
   "execution_count": null,
   "id": "4ae367c2-8b7a-444f-bf14-e8255760af30",
   "metadata": {},
   "outputs": [],
   "source": [
    "pip install requests pydub"
   ]
  },
  {
   "cell_type": "code",
   "execution_count": null,
   "id": "e9ad1482-ba33-46c6-adcd-04a4df4639f2",
   "metadata": {},
   "outputs": [],
   "source": [
    "import requests\n",
    "from pydub import AudioSegment\n",
    "import base64\n",
    "import json"
   ]
  },
  {
   "cell_type": "code",
   "execution_count": null,
   "id": "dafb8cd0-a3f3-4b94-81e5-a81f9724ca03",
   "metadata": {},
   "outputs": [],
   "source": [
    "def get_amocrm_token(client_id, client_secret, redirect_uri, code):\n",
    "    url = 'https://your_amocrm_domain.amocrm.ru/oauth2/access_token'\n",
    "    data = {\n",
    "        'client_id': client_id,\n",
    "        'client_secret': client_secret,\n",
    "        'grant_type': 'authorization_code',\n",
    "        'code': code,\n",
    "        'redirect_uri': redirect_uri \n",
    "    }\n",
    "    response = requests.post(url, json=data)\n",
    "    return response.json()\n"
   ]
  },
  {
   "cell_type": "markdown",
   "id": "1685f2e1-8ba2-407e-a4c3-574e460e7455",
   "metadata": {},
   "source": [
    "Функция для получения токена доступа AMOcrm"
   ]
  },
  {
   "cell_type": "code",
   "execution_count": null,
   "id": "9a01e8d8-2d42-457d-b366-8b05600bcc6e",
   "metadata": {},
   "outputs": [],
   "source": [
    "def speech_to_text(audio_file_path, api_key):\n",
    "    with open(audio_file_path, 'rb') as f:\n",
    "        audio_content = f.read()\n",
    "    base64_audio = base64.b64encode(audio_content).decode('utf-8')\n",
    "\n",
    "    headers = {\n",
    "        'Authorization': f'Api-Key {api_key}', \n",
    "        'Content-Type': 'application/json'\n",
    "    }\n",
    "\n",
    "    data = {\n",
    "        'config': {\n",
    "            'encoding': 'LINEAR16',\n",
    "            'sampleRateHertz': 16000,\n",
    "            'languageCode': 'ru-RU'\n",
    "        },\n",
    "        'audio': {\n",
    "            'content': base64_audio\n",
    "        }\n",
    "    }\n",
    "\n",
    "    response = requests.post(\n",
    "        'https://stt.api.cloud.yandex.net/speech/v1/stt:recognize',\n",
    "        headers=headers,\n",
    "        json=data\n",
    "    )\n",
    "    return response.json()\n"
   ]
  },
  {
   "cell_type": "markdown",
   "id": "f6bbd21d-2be2-4e03-ba30-a51debd98f45",
   "metadata": {},
   "source": [
    "Функция для преобразования речи в текст с помощью Yandex SpeechKit"
   ]
  },
  {
   "cell_type": "code",
   "execution_count": null,
   "id": "f8d59d02-09a3-43b2-8aed-df7f3a236447",
   "metadata": {},
   "outputs": [],
   "source": [
    "def create_amocrm_deal(token, deal_data):\n",
    "    url = 'https://your_amocrm_domain.amocrm.ru/api/v4/leads'\n",
    "    headers = {\n",
    "        'Authorization': f'Bearer {token}'\n",
    "    }\n",
    "    response = requests.post(url, headers=headers, json=deal_data)\n",
    "    return response.json()\n"
   ]
  },
  {
   "cell_type": "markdown",
   "id": "8fc4ca4b-02dd-4125-8ba7-efa1a79868ef",
   "metadata": {},
   "source": [
    "Функция для создания сделки в AMOcrm"
   ]
  },
  {
   "cell_type": "code",
   "execution_count": null,
   "id": "64db2d9e-ce41-4c0f-b040-8e0fc13d89d9",
   "metadata": {},
   "outputs": [],
   "source": [
    "if __name__ == \"__main__\":\n",
    "    client_id = 'your_amocrm_client_id' # в этой функции нужно вставить свои токены\n",
    "    client_secret = 'your_amocrm_client_secret'\n",
    "    redirect_uri = 'your_redirect_uri'\n",
    "    code = 'authorization_code_received_from_amocrm'\n",
    "    \n",
    "    amocrm_token = get_amocrm_token(client_id, client_secret, redirect_uri, code)['access_token']\n",
    "    \n",
    "    yandex_api_key = 'your_yandex_speechkit_api_key' # здесь нужно вставить свой апи от яндекс клауд\n",
    "    audio_file_path = 'path_to_your_audio_file.wav'\n",
    "    \n",
    "    # Конвертация аудио в текст\n",
    "    transcription = speech_to_text(audio_file_path, yandex_api_key)\n",
    "    if 'result' in transcription:\n",
    "        text = transcription['result']\n",
    "        print(f'Transcription: {text}')\n",
    "        \n",
    "        # Создание сделки в AMOcrm\n",
    "        deal_data = {\n",
    "            \"name\": \"New Deal from Speech\",\n",
    "            \"price\": 1000,\n",
    "            \"custom_fields_values\": [\n",
    "                {\n",
    "                    \"field_id\": your_custom_field_id,\n",
    "                    \"values\": [\n",
    "                        {\n",
    "                            \"value\": text\n",
    "                        }\n",
    "                    ]\n",
    "                }\n",
    "            ]\n",
    "        }\n",
    "        deal_response = create_amocrm_deal(amocrm_token, deal_data) \n",
    "        print(f'Deal created: {deal_response}')\n",
    "    else:\n",
    "        print('Error in transcription:', transcription)\n"
   ]
  },
  {
   "cell_type": "markdown",
   "id": "992e49b0-b843-4dd6-a520-13e9c6792608",
   "metadata": {},
   "source": [
    "Основной скрипт для интеграции"
   ]
  },
  {
   "cell_type": "markdown",
   "id": "2e586be7-a799-4278-87bf-e99f1f8ed44a",
   "metadata": {},
   "source": [
    "**В коде нужно заменить your_amocrm_domain, your_amocrm_client_id, your_amocrm_client_secret, your_redirect_uri, your_yandex_speechkit_api_key, your_custom_field_id на соответствующие ваши значения.**"
   ]
  }
 ],
 "metadata": {
  "kernelspec": {
   "display_name": "Python 3 (ipykernel)",
   "language": "python",
   "name": "python3"
  },
  "language_info": {
   "codemirror_mode": {
    "name": "ipython",
    "version": 3
   },
   "file_extension": ".py",
   "mimetype": "text/x-python",
   "name": "python",
   "nbconvert_exporter": "python",
   "pygments_lexer": "ipython3",
   "version": "3.11.5"
  }
 },
 "nbformat": 4,
 "nbformat_minor": 5
}
